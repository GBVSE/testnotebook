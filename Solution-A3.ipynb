{
 "cells": [
  {
   "cell_type": "markdown",
   "id": "ee4b6a9e-1b46-4c15-a9fc-7136f08134ae",
   "metadata": {},
   "source": [
    "# A3 Solution\n",
    "\n",
    "- Date: 02-24-2023\n",
    "- author: Maoyuan Sun\n",
    "\n",
    "**This should not be shared with students**"
   ]
  },
  {
   "cell_type": "code",
   "execution_count": 1,
   "id": "fca49e38-359b-48b7-bb51-04afc65ec9e6",
   "metadata": {},
   "outputs": [],
   "source": [
    "# Do not modify this cell, just run it to download and load the dataset\n",
    "\n",
    "import os\n",
    "import json\n",
    "from urllib.request import urlretrieve\n",
    "\n",
    "# download the data if we don't have it locally\n",
    "url = \"https://faculty.cs.niu.edu/~dakoop/cs503-2023sp/a3/pokemon.json\"\n",
    "local_fname = \"pokemon.json\"\n",
    "if not os.path.exists(local_fname):\n",
    "    urlretrieve(url, local_fname)\n",
    "\n",
    "data = json.load(open(local_fname));"
   ]
  },
  {
   "cell_type": "code",
   "execution_count": 2,
   "id": "d5d31983-0bfc-4e95-803e-e9a2953c849b",
   "metadata": {},
   "outputs": [
    {
     "data": {
      "text/plain": [
       "{'name': 'Bulbasaur',\n",
       " 'generation': 1,\n",
       " 'species': 'Seed Pokémon',\n",
       " 'primary_type': 'Grass',\n",
       " 'hp': 45.0,\n",
       " 'height_m': 0.7,\n",
       " 'weight_kg': 6.9,\n",
       " 'speed': 45.0,\n",
       " 'attack': 49.0,\n",
       " 'defense': 49.0}"
      ]
     },
     "execution_count": 2,
     "metadata": {},
     "output_type": "execute_result"
    }
   ],
   "source": [
    "# Example code\n",
    "\n",
    "# the first dictionary in the data list\n",
    "data[0]"
   ]
  },
  {
   "cell_type": "markdown",
   "id": "88dc388b-be93-45ef-a0aa-ac781cc55c78",
   "metadata": {
    "tags": []
   },
   "source": [
    "### Q1: Maxmum Hit Points "
   ]
  },
  {
   "cell_type": "code",
   "execution_count": 3,
   "id": "25a69cee-74e5-4abf-814a-279f0c6b11c3",
   "metadata": {},
   "outputs": [
    {
     "name": "stdout",
     "output_type": "stream",
     "text": [
      "The highest number of base hit points pokemon: ['Blissey', 'Eternatus Eternamax']\n"
     ]
    }
   ],
   "source": [
    "max_hp = 0\n",
    "name = []\n",
    "\n",
    "for d in data:\n",
    "    if (d['hp'] == max_hp):\n",
    "        name.append(d['name'])\n",
    "    elif (d['hp'] > max_hp):\n",
    "        max_hp = d['hp']\n",
    "        name = []\n",
    "        name.append(d['name'])\n",
    "\n",
    "print(\"The highest number of base hit points pokemon:\", name)"
   ]
  },
  {
   "cell_type": "markdown",
   "id": "bc465fa8-b29e-40ce-b62b-720c53a9e033",
   "metadata": {},
   "source": [
    "### Q2: Generation Counts"
   ]
  },
  {
   "cell_type": "code",
   "execution_count": 4,
   "id": "edfc4f74-081f-4d96-a2de-fd0305072cbc",
   "metadata": {},
   "outputs": [
    {
     "name": "stdout",
     "output_type": "stream",
     "text": [
      "The counts of each generation are: {1: 192, 2: 107, 3: 165, 4: 121, 5: 171, 6: 85, 7: 99, 8: 88}\n"
     ]
    }
   ],
   "source": [
    "generation_counts = {}\n",
    "\n",
    "for d in data:\n",
    "    this_gen = d[\"generation\"]\n",
    "    if this_gen not in generation_counts:\n",
    "        generation_counts[this_gen] = 1    \n",
    "    else:\n",
    "        generation_counts[this_gen] += 1\n",
    "        \n",
    "print(\"The counts of each generation are:\", generation_counts)"
   ]
  },
  {
   "cell_type": "markdown",
   "id": "31a360cb-b2ff-4b77-9f92-714d7542cbb3",
   "metadata": {},
   "source": [
    "### Q3: Mean Weights by Primary Type"
   ]
  },
  {
   "cell_type": "code",
   "execution_count": 5,
   "id": "7d9e619b-adb3-4559-9acb-0a2ee579551d",
   "metadata": {},
   "outputs": [
    {
     "data": {
      "text/plain": [
       "{'Grass': 39.83956043956042,\n",
       " 'Fire': 65.02000000000001,\n",
       " 'Water': 58.225373134328365,\n",
       " 'Bug': 33.95432098765432,\n",
       " 'Normal': 43.49130434782609,\n",
       " 'Dark': 57.58181818181819,\n",
       " 'Poison': 60.176315789473676,\n",
       " 'Electric': 36.070491803278685,\n",
       " 'Ground': 133.38536585365856,\n",
       " 'Ice': 93.18333333333334,\n",
       " 'Fairy': 40.445454545454545,\n",
       " 'Steel': 231.1138888888889,\n",
       " 'Fighting': 79.29210526315791,\n",
       " 'Psychic': 69.93947368421051,\n",
       " 'Rock': 114.48166666666667,\n",
       " 'Ghost': 64.3609756097561,\n",
       " 'Dragon': 125.2875,\n",
       " 'Flying': 41.225}"
      ]
     },
     "execution_count": 5,
     "metadata": {},
     "output_type": "execute_result"
    }
   ],
   "source": [
    "primary_weights = {}\n",
    "\n",
    "for d in data:\n",
    "    this_type = d[\"primary_type\"]\n",
    "    this_weight = d[\"weight_kg\"]\n",
    "    \n",
    "    if this_weight == None:\n",
    "        continue\n",
    "    if this_type not in primary_weights:\n",
    "        primary_weights[this_type] = [this_weight]\n",
    "    else:\n",
    "        primary_weights[this_type].append(this_weight)\n",
    "    \n",
    "for this_type, this_weight_list in primary_weights.items():\n",
    "    mean_weight = sum(this_weight_list)/len(this_weight_list)\n",
    "    primary_weights[this_type] = mean_weight\n",
    "    \n",
    "primary_weights"
   ]
  },
  {
   "cell_type": "markdown",
   "id": "49ff480e-ebfe-4040-bf3e-a11225eaeffe",
   "metadata": {},
   "source": [
    "### Q4: Filter by Hit Points"
   ]
  },
  {
   "cell_type": "code",
   "execution_count": 44,
   "id": "3da4723d-8552-4bfa-a8a2-62c4ca03950d",
   "metadata": {},
   "outputs": [
    {
     "data": {
      "text/plain": [
       "[(20.0, 'Duskull'),\n",
       " (20.0, 'Feebas'),\n",
       " (20.0, 'Magikarp'),\n",
       " (20.0, 'Mime Jr.'),\n",
       " (20.0, 'Pichu'),\n",
       " (20.0, 'Shuckle'),\n",
       " (25.0, 'Abra'),\n",
       " (25.0, 'Blipbug'),\n",
       " (25.0, 'Magnemite'),\n",
       " (25.0, 'Wimpod')]"
      ]
     },
     "execution_count": 44,
     "metadata": {},
     "output_type": "execute_result"
    }
   ],
   "source": [
    "def filter_hp(data, min_hp = 1, max_hp = 255):\n",
    "    \n",
    "    selected_data = []\n",
    "    \n",
    "    for d in data:\n",
    "        this_hp = d[\"hp\"]\n",
    "        \n",
    "        if this_hp >= min_hp and this_hp <= max_hp:\n",
    "            selected_data.append((this_hp, d[\"name\"]))\n",
    "\n",
    "    return sorted(selected_data)\n",
    "    \n",
    "filter_hp(data, 20, 25)"
   ]
  },
  {
   "cell_type": "markdown",
   "id": "4fd769d8-3c4a-4f30-84d5-e7ca02ab7c73",
   "metadata": {},
   "source": [
    "### Q5: Median Attack & Defense by Generation"
   ]
  },
  {
   "cell_type": "code",
   "execution_count": 48,
   "id": "31798eca-11a0-4e3a-bda5-76f29007a73c",
   "metadata": {},
   "outputs": [
    {
     "data": {
      "text/plain": [
       "[{'generation': 1, 'attack': 75.0, 'defense': 66.0},\n",
       " {'generation': 2, 'attack': 72.0, 'defense': 70.0},\n",
       " {'generation': 3, 'attack': 75.0, 'defense': 70.0},\n",
       " {'generation': 4, 'attack': 80.0, 'defense': 72.0},\n",
       " {'generation': 5, 'attack': 80.0, 'defense': 70.0},\n",
       " {'generation': 6, 'attack': 70.0, 'defense': 70.0},\n",
       " {'generation': 7, 'attack': 82.0, 'defense': 75.0},\n",
       " {'generation': 8, 'attack': 82.5, 'defense': 69.5}]"
      ]
     },
     "execution_count": 48,
     "metadata": {},
     "output_type": "execute_result"
    }
   ],
   "source": [
    "def get_median(data):\n",
    "    data.sort()\n",
    "    if len(data) % 2 == 0:\n",
    "        return (data[len(data) // 2] + data[(len(data) // 2) - 1]) / 2\n",
    "    else:\n",
    "        return data[len(data) // 2]\n",
    "\n",
    "gen_atk_def = []\n",
    "    \n",
    "for d in data:\n",
    "    this_gen = d[\"generation\"]\n",
    "    this_attack = d[\"attack\"]\n",
    "    this_defense = d[\"defense\"]\n",
    "        \n",
    "    if len(gen_atk_def) < this_gen: # could do this as the gen info in the given data is sorted\n",
    "        gen_atk_def.append({\"generation\": this_gen, \"attack\": [this_attack], \"defense\": [this_defense]})\n",
    "    else:\n",
    "        gen_atk_def[this_gen - 1][\"attack\"].append(this_attack)\n",
    "        gen_atk_def[this_gen - 1][\"defense\"].append(this_defense)\n",
    "        \n",
    "for g in gen_atk_def:\n",
    "    g[\"attack\"] = get_median(g[\"attack\"])\n",
    "    g[\"defense\"] = get_median(g[\"defense\"])\n",
    "        \n",
    "gen_atk_def"
   ]
  },
  {
   "cell_type": "code",
   "execution_count": null,
   "id": "fb1d0b00-4184-47a4-bb9e-62713954856b",
   "metadata": {},
   "outputs": [],
   "source": []
  }
 ],
 "metadata": {
  "kernelspec": {
   "display_name": "Python 3 (ipykernel)",
   "language": "python",
   "name": "python3"
  },
  "language_info": {
   "codemirror_mode": {
    "name": "ipython",
    "version": 3
   },
   "file_extension": ".py",
   "mimetype": "text/x-python",
   "name": "python",
   "nbconvert_exporter": "python",
   "pygments_lexer": "ipython3",
   "version": "3.9.12"
  }
 },
 "nbformat": 4,
 "nbformat_minor": 5
}
